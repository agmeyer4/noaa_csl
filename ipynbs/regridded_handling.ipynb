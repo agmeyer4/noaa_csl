{
 "cells": [
  {
   "cell_type": "markdown",
   "metadata": {},
   "source": [
    "# Post Regrid Data Handling"
   ]
  },
  {
   "cell_type": "markdown",
   "metadata": {},
   "source": [
    "Goal is to have a streamlined way to access the files a user needs given a set of parameters. Envisioning something where a user could enter:\n",
    "* Sectors of interest (or \"all\")\n",
    "* Timerange of interest\n",
    "* Spatial bounding box\n",
    "* Gas species of interest    \n",
    "\n",
    "And be returned either an xarray object with dask parallelization, or create a new netCDF/set of netCDF files to be loaded by the user later. \n",
    "\n",
    "There is obviously lots of work to be done, but this is a good start if you want to start playing with data. \n"
   ]
  },
  {
   "cell_type": "code",
   "execution_count": 10,
   "metadata": {},
   "outputs": [],
   "source": [
    "import xarray as xr\n",
    "import pandas as pd\n",
    "import os\n",
    "import pyproj\n",
    "import numpy as np\n",
    "import xesmf as xe\n",
    "import calendar\n",
    "import datetime\n",
    "import cartopy.crs as ccrs\n",
    "import cartopy.feature as cfeature\n",
    "import cartopy.io.img_tiles as cimgt\n",
    "import matplotlib.pyplot as plt\n",
    "import sys\n",
    "sys.path.append('..')\n",
    "\n",
    "import noaa_csl_funcs as ncf"
   ]
  },
  {
   "cell_type": "code",
   "execution_count": 11,
   "metadata": {},
   "outputs": [],
   "source": [
    "# map_extent={'lon_min':-112.25,\n",
    "#             'lon_max':-111.55,\n",
    "#             'lat_min':40.3,\n",
    "#             'lat_max':41.1} \n",
    "# dataset_extent = {'lon_min':-112.15,\n",
    "#                   'lon_max':-111.7,\n",
    "#                   'lat_min':40.4,\n",
    "#                   'lat_max':41.0} \n",
    "\n",
    "map_extent={'lon_min':-112.4,\n",
    "            'lon_max':-111.4,\n",
    "            'lat_min':40.1,\n",
    "            'lat_max':41.3} \n",
    "dataset_extent = {'lon_min':-112.25,\n",
    "                  'lon_max':-111.6,\n",
    "                  'lat_min':40.3,\n",
    "                  'lat_max':41.1} "
   ]
  },
  {
   "cell_type": "code",
   "execution_count": 12,
   "metadata": {},
   "outputs": [],
   "source": [
    "regridded_path = '/uufs/chpc.utah.edu/common/home/lin-group9/agm/NOAA_CSL_Data/regridded2'\n",
    "RCH = ncf.Regridded_CSL_Handler(regridded_path)\n",
    "dt1  = pd.to_datetime('2019-01-01 00') \n",
    "dt2 = pd.to_datetime('2019-02-28 23') \n",
    "day_types = ['weekdy','satdy','sundy'] #a list with any or all of 'weekdy','satdy','sundy'\n",
    "species = ['HC01','CO2','CO']\n",
    "\n",
    "save_path = '/uufs/chpc.utah.edu/common/home/u0890904/LAIR_1/Data/NC'\n",
    "save_prefix = 'slc_2019_em27'"
   ]
  },
  {
   "cell_type": "code",
   "execution_count": 13,
   "metadata": {},
   "outputs": [],
   "source": [
    "sector_types = ['area','point']\n",
    "combined_dss = {}\n",
    "for sector_type in sector_types:\n",
    "    #Get the paths to the files that match the criteria\n",
    "    days_paths = RCH.get_days_in_range(dt1,dt2,day_types,sector_type) \n",
    "    files = RCH.get_files_in_days(days_paths)\n",
    "\n",
    "    load_vars = [] #the variables we want to load\n",
    "    if sector_type == 'area': #for area sources, just load the species defined above\n",
    "        load_vars = species.copy() \n",
    "    if sector_type == 'point': #for point, often useful to have the stack/type information \n",
    "        load_vars = species.copy()\n",
    "        load_vars.extend(['ITYPE','STKht','STKdiam','STKtemp','STKve','STKflw','FUGht']) #so add it to the actual species\n",
    "\n",
    "    #Load the files with xarray, preprocessing them so they can be combined by coordinates\n",
    "    ds_list = [] #initialize the list of datasets\n",
    "    for file in files:\n",
    "        ds = RCH.preprocess_regridded(xr.open_dataset(file,chunks = {'utc_hour':1}),dataset_extent)[load_vars] #prepreprocess the file, open with dask chunking, and only keep the species of interest\n",
    "        ds_list.append(ds)  \n",
    "    ds_combined = xr.combine_by_coords(ds_list,combine_attrs='drop_conflicts') #this is the combined dataset!\n",
    "    combined_dss[sector_type] = ds_combined"
   ]
  },
  {
   "cell_type": "code",
   "execution_count": 34,
   "metadata": {},
   "outputs": [],
   "source": [
    "#Save to nc\n",
    "for sector_type in sector_types:\n",
    "    combined_dss[sector_type].to_netcdf(os.path.join(save_path,f\"{save_prefix}_{sector_type}.nc\"))"
   ]
  },
  {
   "cell_type": "markdown",
   "metadata": {},
   "source": [
    "Now we can start to play with subsetting and representing data. "
   ]
  },
  {
   "cell_type": "code",
   "execution_count": 15,
   "metadata": {},
   "outputs": [
    {
     "data": {
      "image/png": "[encoded data removed]",
      "text/plain": [
       "<Figure size 1000x500 with 2 Axes>"
      ]
     },
     "metadata": {},
     "output_type": "display_data"
    }
   ],
   "source": [
    "# For example:\n",
    "# This is the mean daily emission rate of CO2 from onroad_gasoline on a weekday in Jan 2019 for the whole US\n",
    "spec = 'HC01'\n",
    "plotds = combined_dss['area'][spec].sel(sector='area_OG',\n",
    "                         day_type='weekdy',\n",
    "                         yr_mo='2019-1'\n",
    "                         ).mean(dim='utc_hour',keep_attrs=True)\n",
    "\n",
    "#Plotting\n",
    "proj = ccrs.PlateCarree() #set the projection\n",
    "fig = plt.figure(figsize=(10,5)) #setup the figure\n",
    "ax = plt.axes(projection = proj) #setup the axis with correct projection\n",
    "plotds.plot.pcolormesh('lon','lat',ax = ax,cmap = 'viridis') #plot the dataset on the ax \n",
    "ax.coastlines() #add coastlines\n",
    "ax.add_feature(cfeature.BORDERS) #borders \n",
    "ax.add_feature(cfeature.STATES) #states\n",
    "plt.title('')\n",
    "plt.show() #show it"
   ]
  },
  {
   "cell_type": "code",
   "execution_count": 16,
   "metadata": {},
   "outputs": [
    {
     "data": {
      "image/png": "[encoded data removed]",
      "text/plain": [
       "<Figure size 1000x500 with 2 Axes>"
      ]
     },
     "metadata": {},
     "output_type": "display_data"
    }
   ],
   "source": [
    "#This is the mean daily emission rate of methane (HC01) from industry on a saturday in Febuary 2019 near northern Utah\n",
    "# TODO This can take a long time. Find the bottleneck. Suspect it is the lat lon slicing? why tho...\n",
    "\n",
    "# map_extent={'lon_low':-115.4,\n",
    "#             'lon_high':-109.6,\n",
    "#             'lat_low':38.5,\n",
    "#             'lat_high':45.0} #define the extent\n",
    "\n",
    "plotds = combined_dss['area'].sel(sector='area_onroad_gasoline',day_type='satdy',yr_mo='2019-2', #sector day type and month\n",
    "                         lat=slice(map_extent['lat_min'],map_extent['lat_max']), \n",
    "                         lon=slice(map_extent['lon_min'],map_extent['lon_max']) #subselect the bounding box in lat lon\n",
    "                         )['HC01'].mean(dim='utc_hour',keep_attrs = True) #take methane (HC01) and the mean hourly\n",
    "\n",
    "proj = ccrs.PlateCarree()\n",
    "fig = plt.figure(figsize=(10,5))\n",
    "ax = plt.axes(projection = proj)\n",
    "plotds.plot.pcolormesh('lon','lat',ax = ax,cmap = 'viridis')\n",
    "ax.coastlines()\n",
    "ax.add_feature(cfeature.BORDERS)\n",
    "ax.add_feature(cfeature.STATES)\n",
    "plt.title('')\n",
    "plt.show()"
   ]
  }
 ],
 "metadata": {
  "kernelspec": {
   "display_name": "noaa_csl",
   "language": "python",
   "name": "python3"
  },
  "language_info": {
   "codemirror_mode": {
    "name": "ipython",
    "version": 3
   },
   "file_extension": ".py",
   "mimetype": "text/x-python",
   "name": "python",
   "nbconvert_exporter": "python",
   "pygments_lexer": "ipython3",
   "version": "3.12.3"
  }
 },
 "nbformat": 4,
 "nbformat_minor": 2
}
